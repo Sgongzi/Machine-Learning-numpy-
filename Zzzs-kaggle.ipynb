{
 "cells": [
  {
   "cell_type": "code",
   "execution_count": 1,
   "id": "10922558",
   "metadata": {
    "_cell_guid": "b1076dfc-b9ad-4769-8c92-a6c4dae69d19",
    "_uuid": "8f2839f25d086af736a60e9eeb907d3b93b6e0e5",
    "execution": {
     "iopub.execute_input": "2023-12-02T16:38:20.664299Z",
     "iopub.status.busy": "2023-12-02T16:38:20.663261Z",
     "iopub.status.idle": "2023-12-02T16:38:21.288417Z",
     "shell.execute_reply": "2023-12-02T16:38:21.287477Z"
    },
    "papermill": {
     "duration": 0.638669,
     "end_time": "2023-12-02T16:38:21.290622",
     "exception": false,
     "start_time": "2023-12-02T16:38:20.651953",
     "status": "completed"
    },
    "tags": []
   },
   "outputs": [
    {
     "name": "stdout",
     "output_type": "stream",
     "text": [
      "/kaggle/input/zzzs-lightweight-training-dataset-target/Zzzs_train.parquet\n",
      "/kaggle/input/zzzs-lightweight-training-dataset-target/Zzzs_train_multi.parquet\n",
      "/kaggle/input/child-mind-institute-detect-sleep-states/train_series.parquet\n",
      "/kaggle/input/child-mind-institute-detect-sleep-states/sample_submission.csv\n",
      "/kaggle/input/child-mind-institute-detect-sleep-states/train_events.csv\n",
      "/kaggle/input/child-mind-institute-detect-sleep-states/test_series.parquet\n"
     ]
    }
   ],
   "source": [
    "# This Python 3 environment comes with many helpful analytics libraries installed\n",
    "# It is defined by the kaggle/python Docker image: https://github.com/kaggle/docker-python\n",
    "# For example, here's several helpful packages to load\n",
    "\n",
    "import numpy as np # linear algebra\n",
    "import pandas as pd # data processing, CSV file I/O (e.g. pd.read_csv)\n",
    "\n",
    "# Input data files are available in the read-only \"../input/\" directory\n",
    "# For example, running this (by clicking run or pressing Shift+Enter) will list all files under the input directory\n",
    "\n",
    "import os\n",
    "for dirname, _, filenames in os.walk('/kaggle/input'):\n",
    "    for filename in filenames:\n",
    "        print(os.path.join(dirname, filename))\n",
    "\n",
    "# You can write up to 20GB to the current directory (/kaggle/working/) that gets preserved as output when you create a version using \"Save & Run All\" \n",
    "# You can also write temporary files to /kaggle/temp/, but they won't be saved outside of the current session"
   ]
  },
  {
   "cell_type": "code",
   "execution_count": 2,
   "id": "2d356096",
   "metadata": {
    "execution": {
     "iopub.execute_input": "2023-12-02T16:38:21.311027Z",
     "iopub.status.busy": "2023-12-02T16:38:21.310557Z",
     "iopub.status.idle": "2023-12-02T16:38:24.109685Z",
     "shell.execute_reply": "2023-12-02T16:38:24.108700Z"
    },
    "papermill": {
     "duration": 2.811693,
     "end_time": "2023-12-02T16:38:24.111801",
     "exception": false,
     "start_time": "2023-12-02T16:38:21.300108",
     "status": "completed"
    },
    "tags": []
   },
   "outputs": [
    {
     "data": {
      "text/plain": [
       "True"
      ]
     },
     "execution_count": 2,
     "metadata": {},
     "output_type": "execute_result"
    }
   ],
   "source": [
    "import torch \n",
    "torch.cuda.is_available()"
   ]
  },
  {
   "cell_type": "code",
   "execution_count": 3,
   "id": "fe4f1742",
   "metadata": {
    "execution": {
     "iopub.execute_input": "2023-12-02T16:38:24.132694Z",
     "iopub.status.busy": "2023-12-02T16:38:24.131707Z",
     "iopub.status.idle": "2023-12-02T16:38:24.136335Z",
     "shell.execute_reply": "2023-12-02T16:38:24.135459Z"
    },
    "papermill": {
     "duration": 0.016983,
     "end_time": "2023-12-02T16:38:24.138242",
     "exception": false,
     "start_time": "2023-12-02T16:38:24.121259",
     "status": "completed"
    },
    "tags": []
   },
   "outputs": [],
   "source": [
    "import gc\n",
    "import warnings\n",
    "warnings.filterwarnings(\"ignore\")"
   ]
  },
  {
   "cell_type": "code",
   "execution_count": 4,
   "id": "c1a1e5b9",
   "metadata": {
    "execution": {
     "iopub.execute_input": "2023-12-02T16:38:24.158436Z",
     "iopub.status.busy": "2023-12-02T16:38:24.157714Z",
     "iopub.status.idle": "2023-12-02T16:38:24.162263Z",
     "shell.execute_reply": "2023-12-02T16:38:24.161289Z"
    },
    "papermill": {
     "duration": 0.016686,
     "end_time": "2023-12-02T16:38:24.164263",
     "exception": false,
     "start_time": "2023-12-02T16:38:24.147577",
     "status": "completed"
    },
    "tags": []
   },
   "outputs": [],
   "source": [
    "from pandas.api.types import is_datetime64_ns_dtype"
   ]
  },
  {
   "cell_type": "markdown",
   "id": "964aba6d",
   "metadata": {
    "papermill": {
     "duration": 0.009001,
     "end_time": "2023-12-02T16:38:24.182686",
     "exception": false,
     "start_time": "2023-12-02T16:38:24.173685",
     "status": "completed"
    },
    "tags": []
   },
   "source": [
    "# Data"
   ]
  },
  {
   "cell_type": "code",
   "execution_count": 5,
   "id": "b2299511",
   "metadata": {
    "execution": {
     "iopub.execute_input": "2023-12-02T16:38:24.202767Z",
     "iopub.status.busy": "2023-12-02T16:38:24.202371Z",
     "iopub.status.idle": "2023-12-02T16:38:24.206648Z",
     "shell.execute_reply": "2023-12-02T16:38:24.205819Z"
    },
    "papermill": {
     "duration": 0.016682,
     "end_time": "2023-12-02T16:38:24.208595",
     "exception": false,
     "start_time": "2023-12-02T16:38:24.191913",
     "status": "completed"
    },
    "tags": []
   },
   "outputs": [],
   "source": [
    "path='/kaggle/input/zzzs-lightweight-training-dataset-target/Zzzs_train.parquet'\n"
   ]
  },
  {
   "cell_type": "markdown",
   "id": "43a36699",
   "metadata": {
    "papermill": {
     "duration": 0.008966,
     "end_time": "2023-12-02T16:38:24.228057",
     "exception": false,
     "start_time": "2023-12-02T16:38:24.219091",
     "status": "completed"
    },
    "tags": []
   },
   "source": [
    "# Feature Engineering"
   ]
  },
  {
   "cell_type": "code",
   "execution_count": 6,
   "id": "6bb7cd5f",
   "metadata": {
    "execution": {
     "iopub.execute_input": "2023-12-02T16:38:24.248367Z",
     "iopub.status.busy": "2023-12-02T16:38:24.247555Z",
     "iopub.status.idle": "2023-12-02T16:38:24.257440Z",
     "shell.execute_reply": "2023-12-02T16:38:24.256539Z"
    },
    "papermill": {
     "duration": 0.02202,
     "end_time": "2023-12-02T16:38:24.259376",
     "exception": false,
     "start_time": "2023-12-02T16:38:24.237356",
     "status": "completed"
    },
    "tags": []
   },
   "outputs": [],
   "source": [
    "@staticmethod\n",
    "def reduce_mem_usage(df):\n",
    "    for col in df.columns:\n",
    "        col_type = df[col].dtype\n",
    "\n",
    "        if col_type != object and not is_datetime64_ns_dtype(df[col]) and not 'category':\n",
    "            c_min = df[col].min()\n",
    "            c_max = df[col].max()\n",
    "            if str(col_type)[:3] == 'int':\n",
    "                if c_min > np.iinfo(np.int8).min and c_max < np.iinfo(np.int8).max:\n",
    "                    df[col] = df[col].astype(np.int8)\n",
    "                elif c_min > np.iinfo(np.int16).min and c_max < np.iinfo(np.int16).max:\n",
    "                    df[col] = df[col].astype(np.int16)\n",
    "                elif c_min > np.iinfo(np.int32).min and c_max < np.iinfo(np.int32).max:\n",
    "                    df[col] = df[col].astype(np.int32)\n",
    "                elif c_min > np.iinfo(np.int64).min and c_max < np.iinfo(np.int64).max:\n",
    "                    df[col] = df[col].astype(np.int32)  \n",
    "            else:\n",
    "                df[col] = df[col].astype(np.float16)\n",
    "    \n",
    "    return df"
   ]
  },
  {
   "cell_type": "code",
   "execution_count": 7,
   "id": "e503b3f1",
   "metadata": {
    "execution": {
     "iopub.execute_input": "2023-12-02T16:38:24.280065Z",
     "iopub.status.busy": "2023-12-02T16:38:24.279698Z",
     "iopub.status.idle": "2023-12-02T16:38:24.293331Z",
     "shell.execute_reply": "2023-12-02T16:38:24.292593Z"
    },
    "papermill": {
     "duration": 0.026621,
     "end_time": "2023-12-02T16:38:24.295387",
     "exception": false,
     "start_time": "2023-12-02T16:38:24.268766",
     "status": "completed"
    },
    "tags": []
   },
   "outputs": [],
   "source": [
    "def feature_programming(df):\n",
    "  \n",
    "    #timestamp\n",
    "    df['timestamp'] = pd.to_datetime(df['timestamp']).apply(lambda t: t.tz_localize(None))\n",
    "    df['hour']=df['timestamp'].dt.hour\n",
    "    \n",
    "    #timestamp\n",
    "    df['series_id'] = df['series_id'].astype('category')\n",
    "    df.sort_values(['timestamp'], inplace=True)\n",
    "    df.set_index('timestamp', inplace=True)\n",
    " \n",
    "\n",
    "    #1)perform shift\n",
    "    for i in [60, 360, 720, 3600]:\n",
    "    #sma as 0th basic feature\n",
    "        df['anglez_roll_'+str(i)]=df['anglez'].rolling(window=i,center=True).mean().bfill().ffill().astype('float16')\n",
    "        \n",
    "        df['enmo_roll_'+str(i)]=df['enmo'].rolling(window=i,center=True).mean().bfill().ffill().astype('float16')\n",
    "    #2)perform difference\n",
    "    #first difference\n",
    "        df['anglez_momentum_'+str(i)]=df['anglez']-df['anglez_roll_'+str(i)]\n",
    "        df['enmo_momentum_'+str(i)]=df['enmo']-df['enmo_roll_'+str(i)]\n",
    "        \n",
    "        #for 1th order\n",
    "        #1st basic feature\n",
    "        df['ratio_ang_'+str(i)]=df['anglez_momentum_'+str(i)].div(df['anglez_roll_'+str(i)]).replace([np.inf,-np.inf],0).fillna(0).astype('float32')\n",
    "        df['ratio_enm_'+str(i)]=df['enmo_momentum_'+str(i)].div(df['enmo_roll_'+str(i)]).replace([np.inf,-np.inf],0).fillna(0).astype('float32')\n",
    "    \n",
    "        #denoise\n",
    "        df['anglez_max_'+str(i)]=df['anglez'].rolling(window=i).max().bfill().ffill().astype('float16')\n",
    "        df['anglez_min_'+str(i)]=df['anglez'].rolling(window=i).min().bfill().ffill().astype('float16')\n",
    "        df['enmo_max_'+str(i)]=df['enmo'].rolling(window=i).max().bfill().ffill().astype('float16')\n",
    "        df['enmo_min_'+str(i)]=df['enmo'].rolling(window=i).min().bfill().ffill().astype('float16')\n",
    "        \n",
    "        \n",
    "    \n",
    "    gc.collect()\n",
    "    return df"
   ]
  },
  {
   "cell_type": "code",
   "execution_count": 8,
   "id": "6b860d18",
   "metadata": {
    "execution": {
     "iopub.execute_input": "2023-12-02T16:38:24.317395Z",
     "iopub.status.busy": "2023-12-02T16:38:24.317063Z",
     "iopub.status.idle": "2023-12-02T16:38:24.322818Z",
     "shell.execute_reply": "2023-12-02T16:38:24.321946Z"
    },
    "papermill": {
     "duration": 0.019635,
     "end_time": "2023-12-02T16:38:24.324838",
     "exception": false,
     "start_time": "2023-12-02T16:38:24.305203",
     "status": "completed"
    },
    "tags": []
   },
   "outputs": [],
   "source": [
    "def feat_eng_by_id(idx):\n",
    "    from warnings import simplefilter \n",
    "    simplefilter(action=\"ignore\", category=pd.errors.PerformanceWarning)\n",
    "    warnings.filterwarnings('ignore')\n",
    "    \n",
    "    #分id读取\n",
    "    df  = pd.read_parquet(path, filters=[('series_id','=',idx)])\n",
    "    df['awake'] = df['awake'].astype(np.int8)\n",
    "    df = reduce_mem_usage(df)\n",
    "    df = feature_programming(df)\n",
    "    return df"
   ]
  },
  {
   "cell_type": "code",
   "execution_count": 9,
   "id": "8d2967fd",
   "metadata": {
    "execution": {
     "iopub.execute_input": "2023-12-02T16:38:24.345357Z",
     "iopub.status.busy": "2023-12-02T16:38:24.344946Z",
     "iopub.status.idle": "2023-12-02T16:38:26.730918Z",
     "shell.execute_reply": "2023-12-02T16:38:26.729914Z"
    },
    "papermill": {
     "duration": 2.398904,
     "end_time": "2023-12-02T16:38:26.733415",
     "exception": false,
     "start_time": "2023-12-02T16:38:24.334511",
     "status": "completed"
    },
    "tags": []
   },
   "outputs": [],
   "source": [
    "\n",
    "series_id = pd.read_parquet('/kaggle/input/zzzs-lightweight-training-dataset-target/Zzzs_train.parquet',columns=['series_id'])\n",
    "series_id = series_id.series_id.unique()\n",
    "series_id = list(series_id)\n"
   ]
  },
  {
   "cell_type": "code",
   "execution_count": 10,
   "id": "9952b437",
   "metadata": {
    "execution": {
     "iopub.execute_input": "2023-12-02T16:38:26.755457Z",
     "iopub.status.busy": "2023-12-02T16:38:26.755114Z",
     "iopub.status.idle": "2023-12-02T16:41:36.958617Z",
     "shell.execute_reply": "2023-12-02T16:41:36.957460Z"
    },
    "papermill": {
     "duration": 190.226795,
     "end_time": "2023-12-02T16:41:36.970160",
     "exception": false,
     "start_time": "2023-12-02T16:38:26.743365",
     "status": "completed"
    },
    "tags": []
   },
   "outputs": [
    {
     "name": "stdout",
     "output_type": "stream",
     "text": [
      "CPU times: user 2.71 s, sys: 4.55 s, total: 7.26 s\n",
      "Wall time: 3min 10s\n"
     ]
    }
   ],
   "source": [
    "%%time\n",
    "\n",
    "from joblib import Parallel, delayed\n",
    "from itertools import groupby\n",
    "\n",
    "train=Parallel(n_jobs=6)(delayed(feat_eng_by_id)(i)for i in series_id)\n"
   ]
  },
  {
   "cell_type": "code",
   "execution_count": 11,
   "id": "ea7cd413",
   "metadata": {
    "execution": {
     "iopub.execute_input": "2023-12-02T16:41:36.992211Z",
     "iopub.status.busy": "2023-12-02T16:41:36.991421Z",
     "iopub.status.idle": "2023-12-02T16:41:37.953321Z",
     "shell.execute_reply": "2023-12-02T16:41:37.952458Z"
    },
    "papermill": {
     "duration": 0.97623,
     "end_time": "2023-12-02T16:41:37.955634",
     "exception": false,
     "start_time": "2023-12-02T16:41:36.979404",
     "status": "completed"
    },
    "tags": []
   },
   "outputs": [],
   "source": [
    "train=pd.concat(train,ignore_index=True)"
   ]
  },
  {
   "cell_type": "code",
   "execution_count": 12,
   "id": "f518f98d",
   "metadata": {
    "execution": {
     "iopub.execute_input": "2023-12-02T16:41:37.976998Z",
     "iopub.status.busy": "2023-12-02T16:41:37.976274Z",
     "iopub.status.idle": "2023-12-02T16:41:37.980932Z",
     "shell.execute_reply": "2023-12-02T16:41:37.980089Z"
    },
    "papermill": {
     "duration": 0.017422,
     "end_time": "2023-12-02T16:41:37.982841",
     "exception": false,
     "start_time": "2023-12-02T16:41:37.965419",
     "status": "completed"
    },
    "tags": []
   },
   "outputs": [],
   "source": [
    "train=train.iloc[::60]"
   ]
  },
  {
   "cell_type": "markdown",
   "id": "734afb0c",
   "metadata": {
    "papermill": {
     "duration": 0.009146,
     "end_time": "2023-12-02T16:41:38.003056",
     "exception": false,
     "start_time": "2023-12-02T16:41:37.993910",
     "status": "completed"
    },
    "tags": []
   },
   "source": [
    "# model select"
   ]
  },
  {
   "cell_type": "code",
   "execution_count": 13,
   "id": "763b5953",
   "metadata": {
    "execution": {
     "iopub.execute_input": "2023-12-02T16:41:38.023880Z",
     "iopub.status.busy": "2023-12-02T16:41:38.023111Z",
     "iopub.status.idle": "2023-12-02T16:41:38.029974Z",
     "shell.execute_reply": "2023-12-02T16:41:38.029096Z"
    },
    "papermill": {
     "duration": 0.019328,
     "end_time": "2023-12-02T16:41:38.031789",
     "exception": false,
     "start_time": "2023-12-02T16:41:38.012461",
     "status": "completed"
    },
    "tags": []
   },
   "outputs": [
    {
     "data": {
      "text/plain": [
       "Index(['series_id', 'step', 'anglez', 'enmo', 'awake', 'hour',\n",
       "       'anglez_roll_60', 'enmo_roll_60', 'anglez_momentum_60',\n",
       "       'enmo_momentum_60', 'ratio_ang_60', 'ratio_enm_60', 'anglez_max_60',\n",
       "       'anglez_min_60', 'enmo_max_60', 'enmo_min_60', 'anglez_roll_360',\n",
       "       'enmo_roll_360', 'anglez_momentum_360', 'enmo_momentum_360',\n",
       "       'ratio_ang_360', 'ratio_enm_360', 'anglez_max_360', 'anglez_min_360',\n",
       "       'enmo_max_360', 'enmo_min_360', 'anglez_roll_720', 'enmo_roll_720',\n",
       "       'anglez_momentum_720', 'enmo_momentum_720', 'ratio_ang_720',\n",
       "       'ratio_enm_720', 'anglez_max_720', 'anglez_min_720', 'enmo_max_720',\n",
       "       'enmo_min_720', 'anglez_roll_3600', 'enmo_roll_3600',\n",
       "       'anglez_momentum_3600', 'enmo_momentum_3600', 'ratio_ang_3600',\n",
       "       'ratio_enm_3600', 'anglez_max_3600', 'anglez_min_3600', 'enmo_max_3600',\n",
       "       'enmo_min_3600'],\n",
       "      dtype='object')"
      ]
     },
     "execution_count": 13,
     "metadata": {},
     "output_type": "execute_result"
    }
   ],
   "source": [
    "train.columns"
   ]
  },
  {
   "cell_type": "code",
   "execution_count": 14,
   "id": "91f02fb4",
   "metadata": {
    "execution": {
     "iopub.execute_input": "2023-12-02T16:41:38.052047Z",
     "iopub.status.busy": "2023-12-02T16:41:38.051736Z",
     "iopub.status.idle": "2023-12-02T16:41:38.269411Z",
     "shell.execute_reply": "2023-12-02T16:41:38.268435Z"
    },
    "papermill": {
     "duration": 0.23026,
     "end_time": "2023-12-02T16:41:38.271617",
     "exception": false,
     "start_time": "2023-12-02T16:41:38.041357",
     "status": "completed"
    },
    "tags": []
   },
   "outputs": [
    {
     "data": {
      "text/plain": [
       "31"
      ]
     },
     "execution_count": 14,
     "metadata": {},
     "output_type": "execute_result"
    }
   ],
   "source": [
    "X=train[['anglez', 'enmo', 'hour',\n",
    "       'anglez_roll_60', 'enmo_roll_60', 'anglez_momentum_60',\n",
    "       'enmo_momentum_60', 'ratio_ang_60', 'ratio_enm_60', 'anglez_max_60',\n",
    "       'anglez_min_60', 'enmo_max_60', 'enmo_min_60', 'anglez_roll_360',\n",
    "       'enmo_roll_360', 'anglez_momentum_360', 'enmo_momentum_360',\n",
    "       'ratio_ang_360', 'ratio_enm_360', 'anglez_max_360', 'anglez_min_360',\n",
    "       'enmo_max_360', 'enmo_min_360', 'anglez_roll_720', 'enmo_roll_720',\n",
    "       'anglez_momentum_720', 'enmo_momentum_720', 'ratio_ang_720',\n",
    "       'ratio_enm_720', 'anglez_max_720', 'anglez_min_720', 'enmo_max_720',\n",
    "       'enmo_min_720', 'anglez_roll_3600', 'enmo_roll_3600',\n",
    "       'anglez_momentum_3600', 'enmo_momentum_3600', 'ratio_ang_3600',\n",
    "       'ratio_enm_3600', 'anglez_max_3600', 'anglez_min_3600', 'enmo_max_3600',\n",
    "       'enmo_min_3600']]\n",
    "y=train['awake']\n",
    "gc.collect()"
   ]
  },
  {
   "cell_type": "code",
   "execution_count": 15,
   "id": "f1cd82fe",
   "metadata": {
    "execution": {
     "iopub.execute_input": "2023-12-02T16:41:38.292525Z",
     "iopub.status.busy": "2023-12-02T16:41:38.292215Z",
     "iopub.status.idle": "2023-12-02T16:41:38.458314Z",
     "shell.execute_reply": "2023-12-02T16:41:38.457368Z"
    },
    "papermill": {
     "duration": 0.178706,
     "end_time": "2023-12-02T16:41:38.460318",
     "exception": false,
     "start_time": "2023-12-02T16:41:38.281612",
     "status": "completed"
    },
    "tags": []
   },
   "outputs": [
    {
     "data": {
      "text/plain": [
       "0"
      ]
     },
     "execution_count": 15,
     "metadata": {},
     "output_type": "execute_result"
    }
   ],
   "source": [
    "del train\n",
    "gc.collect()"
   ]
  },
  {
   "cell_type": "markdown",
   "id": "6edd7bba",
   "metadata": {
    "papermill": {
     "duration": 0.009344,
     "end_time": "2023-12-02T16:41:38.479509",
     "exception": false,
     "start_time": "2023-12-02T16:41:38.470165",
     "status": "completed"
    },
    "tags": []
   },
   "source": [
    "# RF"
   ]
  },
  {
   "cell_type": "code",
   "execution_count": 16,
   "id": "963e5530",
   "metadata": {
    "execution": {
     "iopub.execute_input": "2023-12-02T16:41:38.500606Z",
     "iopub.status.busy": "2023-12-02T16:41:38.499735Z",
     "iopub.status.idle": "2023-12-02T16:41:39.229696Z",
     "shell.execute_reply": "2023-12-02T16:41:39.228573Z"
    },
    "papermill": {
     "duration": 0.743391,
     "end_time": "2023-12-02T16:41:39.232496",
     "exception": false,
     "start_time": "2023-12-02T16:41:38.489105",
     "status": "completed"
    },
    "tags": []
   },
   "outputs": [],
   "source": [
    "from sklearn.model_selection import cross_validate"
   ]
  },
  {
   "cell_type": "code",
   "execution_count": 17,
   "id": "f9d80840",
   "metadata": {
    "execution": {
     "iopub.execute_input": "2023-12-02T16:41:39.254719Z",
     "iopub.status.busy": "2023-12-02T16:41:39.254371Z",
     "iopub.status.idle": "2023-12-02T16:41:39.445610Z",
     "shell.execute_reply": "2023-12-02T16:41:39.444810Z"
    },
    "papermill": {
     "duration": 0.204722,
     "end_time": "2023-12-02T16:41:39.448023",
     "exception": false,
     "start_time": "2023-12-02T16:41:39.243301",
     "status": "completed"
    },
    "tags": []
   },
   "outputs": [],
   "source": [
    "#create a df to store feature‘s importance\n",
    "#feature_importance=pd.DataFrame({'feature':train.columns,'importance':select.feature_importance_})\n",
    "from sklearn.ensemble import RandomForestClassifier\n",
    "rf=RandomForestClassifier(n_estimators=500, min_samples_leaf=300, random_state=42, n_jobs=-1)"
   ]
  },
  {
   "cell_type": "markdown",
   "id": "58474ca4",
   "metadata": {
    "papermill": {
     "duration": 0.009487,
     "end_time": "2023-12-02T16:41:39.467700",
     "exception": false,
     "start_time": "2023-12-02T16:41:39.458213",
     "status": "completed"
    },
    "tags": []
   },
   "source": [
    "# XGBoost "
   ]
  },
  {
   "cell_type": "code",
   "execution_count": 18,
   "id": "204c2e5f",
   "metadata": {
    "execution": {
     "iopub.execute_input": "2023-12-02T16:41:39.489330Z",
     "iopub.status.busy": "2023-12-02T16:41:39.488465Z",
     "iopub.status.idle": "2023-12-02T16:41:39.628247Z",
     "shell.execute_reply": "2023-12-02T16:41:39.627424Z"
    },
    "papermill": {
     "duration": 0.153039,
     "end_time": "2023-12-02T16:41:39.630598",
     "exception": false,
     "start_time": "2023-12-02T16:41:39.477559",
     "status": "completed"
    },
    "tags": []
   },
   "outputs": [],
   "source": [
    "import xgboost as xgb\n",
    "from xgboost.sklearn import XGBClassifier"
   ]
  },
  {
   "cell_type": "code",
   "execution_count": 19,
   "id": "3f53fc7c",
   "metadata": {
    "execution": {
     "iopub.execute_input": "2023-12-02T16:41:39.651943Z",
     "iopub.status.busy": "2023-12-02T16:41:39.651621Z",
     "iopub.status.idle": "2023-12-02T16:41:39.656614Z",
     "shell.execute_reply": "2023-12-02T16:41:39.655768Z"
    },
    "papermill": {
     "duration": 0.01767,
     "end_time": "2023-12-02T16:41:39.658473",
     "exception": false,
     "start_time": "2023-12-02T16:41:39.640803",
     "status": "completed"
    },
    "tags": []
   },
   "outputs": [],
   "source": [
    "xgb_params = {\n",
    "    'n_estimators': 920,\n",
    "    'objective': \"binary:logistic\",\n",
    "    'learning_rate': 0.02,\n",
    "    'max_depth': 7,\n",
    "    'subsample': 0.9,\n",
    "    'colsample_bytree': 0.7,\n",
    "    'random_state': 42,\n",
    "    'tree_method': 'gpu_hist'}\n",
    "\n",
    "xgb=xgb.XGBClassifier(**xgb_params)"
   ]
  },
  {
   "cell_type": "markdown",
   "id": "ab81b04e",
   "metadata": {
    "papermill": {
     "duration": 0.009628,
     "end_time": "2023-12-02T16:41:39.729199",
     "exception": false,
     "start_time": "2023-12-02T16:41:39.719571",
     "status": "completed"
    },
    "tags": []
   },
   "source": [
    "# lightgbm"
   ]
  },
  {
   "cell_type": "code",
   "execution_count": 20,
   "id": "3c225e5f",
   "metadata": {
    "execution": {
     "iopub.execute_input": "2023-12-02T16:41:39.750096Z",
     "iopub.status.busy": "2023-12-02T16:41:39.749703Z",
     "iopub.status.idle": "2023-12-02T16:42:02.207384Z",
     "shell.execute_reply": "2023-12-02T16:42:02.206323Z"
    },
    "papermill": {
     "duration": 22.471061,
     "end_time": "2023-12-02T16:42:02.209872",
     "exception": false,
     "start_time": "2023-12-02T16:41:39.738811",
     "status": "completed"
    },
    "tags": []
   },
   "outputs": [
    {
     "name": "stdout",
     "output_type": "stream",
     "text": [
      "Requirement already satisfied: pyarrow in /opt/conda/lib/python3.10/site-packages (11.0.0)\r\n",
      "Collecting pyarrow\r\n",
      "  Obtaining dependency information for pyarrow from https://files.pythonhosted.org/packages/34/65/204f7c0d507056c37b56dddb3bd60f55744f2609c0f96a5e4ca91c67c42a/pyarrow-14.0.1-cp310-cp310-manylinux_2_28_x86_64.whl.metadata\r\n",
      "  Downloading pyarrow-14.0.1-cp310-cp310-manylinux_2_28_x86_64.whl.metadata (3.0 kB)\r\n",
      "Requirement already satisfied: numpy>=1.16.6 in /opt/conda/lib/python3.10/site-packages (from pyarrow) (1.24.3)\r\n",
      "Downloading pyarrow-14.0.1-cp310-cp310-manylinux_2_28_x86_64.whl (38.0 MB)\r\n",
      "\u001b[2K   \u001b[90m━━━━━━━━━━━━━━━━━━━━━━━━━━━━━━━━━━━━━━━━\u001b[0m \u001b[32m38.0/38.0 MB\u001b[0m \u001b[31m18.4 MB/s\u001b[0m eta \u001b[36m0:00:00\u001b[0m\r\n",
      "\u001b[?25hInstalling collected packages: pyarrow\r\n",
      "  Attempting uninstall: pyarrow\r\n",
      "    Found existing installation: pyarrow 11.0.0\r\n",
      "    Uninstalling pyarrow-11.0.0:\r\n",
      "      Successfully uninstalled pyarrow-11.0.0\r\n",
      "\u001b[31mERROR: pip's dependency resolver does not currently take into account all the packages that are installed. This behaviour is the source of the following dependency conflicts.\r\n",
      "cudf 23.8.0 requires cupy-cuda11x>=12.0.0, which is not installed.\r\n",
      "cuml 23.8.0 requires cupy-cuda11x>=12.0.0, which is not installed.\r\n",
      "dask-cudf 23.8.0 requires cupy-cuda11x>=12.0.0, which is not installed.\r\n",
      "apache-beam 2.46.0 requires dill<0.3.2,>=0.3.1.1, but you have dill 0.3.7 which is incompatible.\r\n",
      "apache-beam 2.46.0 requires pyarrow<10.0.0,>=3.0.0, but you have pyarrow 14.0.1 which is incompatible.\r\n",
      "beatrix-jupyterlab 2023.814.150030 requires jupyter-server~=1.16, but you have jupyter-server 2.10.0 which is incompatible.\r\n",
      "beatrix-jupyterlab 2023.814.150030 requires jupyterlab~=3.4, but you have jupyterlab 4.0.5 which is incompatible.\r\n",
      "cudf 23.8.0 requires pandas<1.6.0dev0,>=1.3, but you have pandas 2.0.3 which is incompatible.\r\n",
      "cudf 23.8.0 requires protobuf<5,>=4.21, but you have protobuf 3.20.3 which is incompatible.\r\n",
      "cudf 23.8.0 requires pyarrow==11.*, but you have pyarrow 14.0.1 which is incompatible.\r\n",
      "cuml 23.8.0 requires dask==2023.7.1, but you have dask 2023.11.0 which is incompatible.\r\n",
      "cuml 23.8.0 requires distributed==2023.7.1, but you have distributed 2023.11.0 which is incompatible.\r\n",
      "dask-cudf 23.8.0 requires dask==2023.7.1, but you have dask 2023.11.0 which is incompatible.\r\n",
      "dask-cudf 23.8.0 requires distributed==2023.7.1, but you have distributed 2023.11.0 which is incompatible.\r\n",
      "dask-cudf 23.8.0 requires pandas<1.6.0dev0,>=1.3, but you have pandas 2.0.3 which is incompatible.\u001b[0m\u001b[31m\r\n",
      "\u001b[0mSuccessfully installed pyarrow-14.0.1\r\n"
     ]
    }
   ],
   "source": [
    "!pip install  --upgrade pyarrow"
   ]
  },
  {
   "cell_type": "code",
   "execution_count": 21,
   "id": "5ca84a99",
   "metadata": {
    "execution": {
     "iopub.execute_input": "2023-12-02T16:42:02.235093Z",
     "iopub.status.busy": "2023-12-02T16:42:02.234688Z",
     "iopub.status.idle": "2023-12-02T16:42:05.017370Z",
     "shell.execute_reply": "2023-12-02T16:42:05.016539Z"
    },
    "papermill": {
     "duration": 2.798021,
     "end_time": "2023-12-02T16:42:05.019717",
     "exception": false,
     "start_time": "2023-12-02T16:42:02.221696",
     "status": "completed"
    },
    "tags": []
   },
   "outputs": [],
   "source": [
    "import lightgbm as lgb\n",
    "lgb_opt = {    \n",
    "    'boosting_type': 'gbdt',\n",
    "    'num_leaves': 131,\n",
    "    'n_iter': 1500,'verbose': -1,'n_estimators': 850,\n",
    "    'objective': 'l2','learning_rate': 0.05670084478292278, 'min_child_samples': 20,\n",
    "    'colsample_bytree': 0.6440444070196796, 'colsample_bynode': 0.637635804565811, \n",
    "    'lambda_l1': 6.29090474401462, 'lambda_l2': 6.775341543233317, 'subsample': 0.9,\n",
    "    'min_data_in_leaf': 95, 'max_depth': 39, 'max_bin': 630}\n",
    "\n",
    "lgb = lgb.LGBMClassifier(**lgb_opt)"
   ]
  },
  {
   "cell_type": "markdown",
   "id": "74153ae8",
   "metadata": {
    "papermill": {
     "duration": 0.01143,
     "end_time": "2023-12-02T16:42:05.043215",
     "exception": false,
     "start_time": "2023-12-02T16:42:05.031785",
     "status": "completed"
    },
    "tags": []
   },
   "source": [
    "# stacking"
   ]
  },
  {
   "cell_type": "code",
   "execution_count": 22,
   "id": "5f89aec0",
   "metadata": {
    "execution": {
     "iopub.execute_input": "2023-12-02T16:42:05.068286Z",
     "iopub.status.busy": "2023-12-02T16:42:05.067529Z",
     "iopub.status.idle": "2023-12-02T16:42:17.046167Z",
     "shell.execute_reply": "2023-12-02T16:42:17.044978Z"
    },
    "papermill": {
     "duration": 11.993823,
     "end_time": "2023-12-02T16:42:17.048669",
     "exception": false,
     "start_time": "2023-12-02T16:42:05.054846",
     "status": "completed"
    },
    "tags": []
   },
   "outputs": [
    {
     "name": "stdout",
     "output_type": "stream",
     "text": [
      "Requirement already satisfied: mlxtend in /opt/conda/lib/python3.10/site-packages (0.23.0)\r\n",
      "Requirement already satisfied: scipy>=1.2.1 in /opt/conda/lib/python3.10/site-packages (from mlxtend) (1.11.3)\r\n",
      "Requirement already satisfied: numpy>=1.16.2 in /opt/conda/lib/python3.10/site-packages (from mlxtend) (1.24.3)\r\n",
      "Requirement already satisfied: pandas>=0.24.2 in /opt/conda/lib/python3.10/site-packages (from mlxtend) (2.0.3)\r\n",
      "Requirement already satisfied: scikit-learn>=1.0.2 in /opt/conda/lib/python3.10/site-packages (from mlxtend) (1.2.2)\r\n",
      "Requirement already satisfied: matplotlib>=3.0.0 in /opt/conda/lib/python3.10/site-packages (from mlxtend) (3.7.3)\r\n",
      "Requirement already satisfied: joblib>=0.13.2 in /opt/conda/lib/python3.10/site-packages (from mlxtend) (1.3.2)\r\n",
      "Requirement already satisfied: contourpy>=1.0.1 in /opt/conda/lib/python3.10/site-packages (from matplotlib>=3.0.0->mlxtend) (1.1.0)\r\n",
      "Requirement already satisfied: cycler>=0.10 in /opt/conda/lib/python3.10/site-packages (from matplotlib>=3.0.0->mlxtend) (0.11.0)\r\n",
      "Requirement already satisfied: fonttools>=4.22.0 in /opt/conda/lib/python3.10/site-packages (from matplotlib>=3.0.0->mlxtend) (4.42.1)\r\n",
      "Requirement already satisfied: kiwisolver>=1.0.1 in /opt/conda/lib/python3.10/site-packages (from matplotlib>=3.0.0->mlxtend) (1.4.4)\r\n",
      "Requirement already satisfied: packaging>=20.0 in /opt/conda/lib/python3.10/site-packages (from matplotlib>=3.0.0->mlxtend) (21.3)\r\n",
      "Requirement already satisfied: pillow>=6.2.0 in /opt/conda/lib/python3.10/site-packages (from matplotlib>=3.0.0->mlxtend) (10.1.0)\r\n",
      "Requirement already satisfied: pyparsing>=2.3.1 in /opt/conda/lib/python3.10/site-packages (from matplotlib>=3.0.0->mlxtend) (3.0.9)\r\n",
      "Requirement already satisfied: python-dateutil>=2.7 in /opt/conda/lib/python3.10/site-packages (from matplotlib>=3.0.0->mlxtend) (2.8.2)\r\n",
      "Requirement already satisfied: pytz>=2020.1 in /opt/conda/lib/python3.10/site-packages (from pandas>=0.24.2->mlxtend) (2023.3)\r\n",
      "Requirement already satisfied: tzdata>=2022.1 in /opt/conda/lib/python3.10/site-packages (from pandas>=0.24.2->mlxtend) (2023.3)\r\n",
      "Requirement already satisfied: threadpoolctl>=2.0.0 in /opt/conda/lib/python3.10/site-packages (from scikit-learn>=1.0.2->mlxtend) (3.2.0)\r\n",
      "Requirement already satisfied: six>=1.5 in /opt/conda/lib/python3.10/site-packages (from python-dateutil>=2.7->matplotlib>=3.0.0->mlxtend) (1.16.0)\r\n"
     ]
    }
   ],
   "source": [
    "!pip install mlxtend"
   ]
  },
  {
   "cell_type": "code",
   "execution_count": 23,
   "id": "18d0f29e",
   "metadata": {
    "execution": {
     "iopub.execute_input": "2023-12-02T16:42:17.075828Z",
     "iopub.status.busy": "2023-12-02T16:42:17.074892Z",
     "iopub.status.idle": "2023-12-02T16:42:17.102214Z",
     "shell.execute_reply": "2023-12-02T16:42:17.101232Z"
    },
    "papermill": {
     "duration": 0.043578,
     "end_time": "2023-12-02T16:42:17.104612",
     "exception": false,
     "start_time": "2023-12-02T16:42:17.061034",
     "status": "completed"
    },
    "tags": []
   },
   "outputs": [],
   "source": [
    "from sklearn.model_selection import cross_val_score\n",
    "from sklearn.linear_model import LogisticRegression\n",
    "from mlxtend.classifier import StackingCVClassifier\n",
    "lr=LogisticRegression()\n",
    "\n",
    "\n",
    "sclf=StackingCVClassifier(classifiers=[rf,lgb,xgb],\n",
    "                         meta_classifier=lr,\n",
    "                         random_state=42)"
   ]
  },
  {
   "cell_type": "code",
   "execution_count": 24,
   "id": "fc8006b0",
   "metadata": {
    "execution": {
     "iopub.execute_input": "2023-12-02T16:42:17.130761Z",
     "iopub.status.busy": "2023-12-02T16:42:17.130401Z",
     "iopub.status.idle": "2023-12-02T17:42:05.663104Z",
     "shell.execute_reply": "2023-12-02T17:42:05.662197Z"
    },
    "papermill": {
     "duration": 3588.561823,
     "end_time": "2023-12-02T17:42:05.679017",
     "exception": false,
     "start_time": "2023-12-02T16:42:17.117194",
     "status": "completed"
    },
    "tags": []
   },
   "outputs": [
    {
     "name": "stdout",
     "output_type": "stream",
     "text": [
      "Accuracy: 0.96 (+/- 0.01) [RF]\n",
      "[LightGBM] [Warning] lambda_l2 is set=6.775341543233317, reg_lambda=0.0 will be ignored. Current value: lambda_l2=6.775341543233317\n",
      "[LightGBM] [Warning] num_iterations is set=1500, n_iter=1500 will be ignored. Current value: num_iterations=1500\n",
      "[LightGBM] [Warning] min_data_in_leaf is set=95, min_child_samples=20 will be ignored. Current value: min_data_in_leaf=95\n",
      "[LightGBM] [Warning] lambda_l1 is set=6.29090474401462, reg_alpha=0.0 will be ignored. Current value: lambda_l1=6.29090474401462\n",
      "[LightGBM] [Warning] lambda_l2 is set=6.775341543233317, reg_lambda=0.0 will be ignored. Current value: lambda_l2=6.775341543233317\n",
      "[LightGBM] [Warning] num_iterations is set=1500, n_iter=1500 will be ignored. Current value: num_iterations=1500\n",
      "[LightGBM] [Warning] min_data_in_leaf is set=95, min_child_samples=20 will be ignored. Current value: min_data_in_leaf=95\n",
      "[LightGBM] [Warning] lambda_l1 is set=6.29090474401462, reg_alpha=0.0 will be ignored. Current value: lambda_l1=6.29090474401462\n",
      "[LightGBM] [Warning] lambda_l2 is set=6.775341543233317, reg_lambda=0.0 will be ignored. Current value: lambda_l2=6.775341543233317\n",
      "[LightGBM] [Warning] num_iterations is set=1500, n_iter=1500 will be ignored. Current value: num_iterations=1500\n",
      "[LightGBM] [Warning] min_data_in_leaf is set=95, min_child_samples=20 will be ignored. Current value: min_data_in_leaf=95\n",
      "[LightGBM] [Warning] lambda_l1 is set=6.29090474401462, reg_alpha=0.0 will be ignored. Current value: lambda_l1=6.29090474401462\n",
      "[LightGBM] [Warning] lambda_l2 is set=6.775341543233317, reg_lambda=0.0 will be ignored. Current value: lambda_l2=6.775341543233317\n",
      "[LightGBM] [Warning] num_iterations is set=1500, n_iter=1500 will be ignored. Current value: num_iterations=1500\n",
      "[LightGBM] [Warning] min_data_in_leaf is set=95, min_child_samples=20 will be ignored. Current value: min_data_in_leaf=95\n",
      "[LightGBM] [Warning] lambda_l1 is set=6.29090474401462, reg_alpha=0.0 will be ignored. Current value: lambda_l1=6.29090474401462\n",
      "[LightGBM] [Warning] lambda_l2 is set=6.775341543233317, reg_lambda=0.0 will be ignored. Current value: lambda_l2=6.775341543233317\n",
      "[LightGBM] [Warning] num_iterations is set=1500, n_iter=1500 will be ignored. Current value: num_iterations=1500\n",
      "[LightGBM] [Warning] min_data_in_leaf is set=95, min_child_samples=20 will be ignored. Current value: min_data_in_leaf=95\n",
      "[LightGBM] [Warning] lambda_l1 is set=6.29090474401462, reg_alpha=0.0 will be ignored. Current value: lambda_l1=6.29090474401462\n",
      "Accuracy: 0.97 (+/- 0.00) [Lgb]\n",
      "Accuracy: 0.97 (+/- 0.00) [XGBoost]\n",
      "[LightGBM] [Warning] lambda_l2 is set=6.775341543233317, reg_lambda=0.0 will be ignored. Current value: lambda_l2=6.775341543233317\n",
      "[LightGBM] [Warning] num_iterations is set=1500, n_iter=1500 will be ignored. Current value: num_iterations=1500\n",
      "[LightGBM] [Warning] min_data_in_leaf is set=95, min_child_samples=20 will be ignored. Current value: min_data_in_leaf=95\n",
      "[LightGBM] [Warning] lambda_l1 is set=6.29090474401462, reg_alpha=0.0 will be ignored. Current value: lambda_l1=6.29090474401462\n",
      "[LightGBM] [Warning] lambda_l2 is set=6.775341543233317, reg_lambda=0.0 will be ignored. Current value: lambda_l2=6.775341543233317\n",
      "[LightGBM] [Warning] num_iterations is set=1500, n_iter=1500 will be ignored. Current value: num_iterations=1500\n",
      "[LightGBM] [Warning] min_data_in_leaf is set=95, min_child_samples=20 will be ignored. Current value: min_data_in_leaf=95\n",
      "[LightGBM] [Warning] lambda_l1 is set=6.29090474401462, reg_alpha=0.0 will be ignored. Current value: lambda_l1=6.29090474401462\n",
      "[LightGBM] [Warning] lambda_l2 is set=6.775341543233317, reg_lambda=0.0 will be ignored. Current value: lambda_l2=6.775341543233317\n",
      "[LightGBM] [Warning] num_iterations is set=1500, n_iter=1500 will be ignored. Current value: num_iterations=1500\n",
      "[LightGBM] [Warning] min_data_in_leaf is set=95, min_child_samples=20 will be ignored. Current value: min_data_in_leaf=95\n",
      "[LightGBM] [Warning] lambda_l1 is set=6.29090474401462, reg_alpha=0.0 will be ignored. Current value: lambda_l1=6.29090474401462\n",
      "[LightGBM] [Warning] lambda_l2 is set=6.775341543233317, reg_lambda=0.0 will be ignored. Current value: lambda_l2=6.775341543233317\n",
      "[LightGBM] [Warning] num_iterations is set=1500, n_iter=1500 will be ignored. Current value: num_iterations=1500\n",
      "[LightGBM] [Warning] min_data_in_leaf is set=95, min_child_samples=20 will be ignored. Current value: min_data_in_leaf=95\n",
      "[LightGBM] [Warning] lambda_l1 is set=6.29090474401462, reg_alpha=0.0 will be ignored. Current value: lambda_l1=6.29090474401462\n",
      "[LightGBM] [Warning] lambda_l2 is set=6.775341543233317, reg_lambda=0.0 will be ignored. Current value: lambda_l2=6.775341543233317\n",
      "[LightGBM] [Warning] num_iterations is set=1500, n_iter=1500 will be ignored. Current value: num_iterations=1500\n",
      "[LightGBM] [Warning] min_data_in_leaf is set=95, min_child_samples=20 will be ignored. Current value: min_data_in_leaf=95\n",
      "[LightGBM] [Warning] lambda_l1 is set=6.29090474401462, reg_alpha=0.0 will be ignored. Current value: lambda_l1=6.29090474401462\n",
      "[LightGBM] [Warning] lambda_l2 is set=6.775341543233317, reg_lambda=0.0 will be ignored. Current value: lambda_l2=6.775341543233317\n",
      "[LightGBM] [Warning] num_iterations is set=1500, n_iter=1500 will be ignored. Current value: num_iterations=1500\n",
      "[LightGBM] [Warning] min_data_in_leaf is set=95, min_child_samples=20 will be ignored. Current value: min_data_in_leaf=95\n",
      "[LightGBM] [Warning] lambda_l1 is set=6.29090474401462, reg_alpha=0.0 will be ignored. Current value: lambda_l1=6.29090474401462\n",
      "[LightGBM] [Warning] lambda_l2 is set=6.775341543233317, reg_lambda=0.0 will be ignored. Current value: lambda_l2=6.775341543233317\n",
      "[LightGBM] [Warning] num_iterations is set=1500, n_iter=1500 will be ignored. Current value: num_iterations=1500\n",
      "[LightGBM] [Warning] min_data_in_leaf is set=95, min_child_samples=20 will be ignored. Current value: min_data_in_leaf=95\n",
      "[LightGBM] [Warning] lambda_l1 is set=6.29090474401462, reg_alpha=0.0 will be ignored. Current value: lambda_l1=6.29090474401462\n",
      "[LightGBM] [Warning] lambda_l2 is set=6.775341543233317, reg_lambda=0.0 will be ignored. Current value: lambda_l2=6.775341543233317\n",
      "[LightGBM] [Warning] num_iterations is set=1500, n_iter=1500 will be ignored. Current value: num_iterations=1500\n",
      "[LightGBM] [Warning] min_data_in_leaf is set=95, min_child_samples=20 will be ignored. Current value: min_data_in_leaf=95\n",
      "[LightGBM] [Warning] lambda_l1 is set=6.29090474401462, reg_alpha=0.0 will be ignored. Current value: lambda_l1=6.29090474401462\n",
      "[LightGBM] [Warning] lambda_l2 is set=6.775341543233317, reg_lambda=0.0 will be ignored. Current value: lambda_l2=6.775341543233317\n",
      "[LightGBM] [Warning] num_iterations is set=1500, n_iter=1500 will be ignored. Current value: num_iterations=1500\n",
      "[LightGBM] [Warning] min_data_in_leaf is set=95, min_child_samples=20 will be ignored. Current value: min_data_in_leaf=95\n",
      "[LightGBM] [Warning] lambda_l1 is set=6.29090474401462, reg_alpha=0.0 will be ignored. Current value: lambda_l1=6.29090474401462\n",
      "[LightGBM] [Warning] lambda_l2 is set=6.775341543233317, reg_lambda=0.0 will be ignored. Current value: lambda_l2=6.775341543233317\n",
      "[LightGBM] [Warning] num_iterations is set=1500, n_iter=1500 will be ignored. Current value: num_iterations=1500\n",
      "[LightGBM] [Warning] min_data_in_leaf is set=95, min_child_samples=20 will be ignored. Current value: min_data_in_leaf=95\n",
      "[LightGBM] [Warning] lambda_l1 is set=6.29090474401462, reg_alpha=0.0 will be ignored. Current value: lambda_l1=6.29090474401462\n",
      "[LightGBM] [Warning] lambda_l2 is set=6.775341543233317, reg_lambda=0.0 will be ignored. Current value: lambda_l2=6.775341543233317\n",
      "[LightGBM] [Warning] num_iterations is set=1500, n_iter=1500 will be ignored. Current value: num_iterations=1500\n",
      "[LightGBM] [Warning] min_data_in_leaf is set=95, min_child_samples=20 will be ignored. Current value: min_data_in_leaf=95\n",
      "[LightGBM] [Warning] lambda_l1 is set=6.29090474401462, reg_alpha=0.0 will be ignored. Current value: lambda_l1=6.29090474401462\n",
      "[LightGBM] [Warning] lambda_l2 is set=6.775341543233317, reg_lambda=0.0 will be ignored. Current value: lambda_l2=6.775341543233317\n",
      "[LightGBM] [Warning] num_iterations is set=1500, n_iter=1500 will be ignored. Current value: num_iterations=1500\n",
      "[LightGBM] [Warning] min_data_in_leaf is set=95, min_child_samples=20 will be ignored. Current value: min_data_in_leaf=95\n",
      "[LightGBM] [Warning] lambda_l1 is set=6.29090474401462, reg_alpha=0.0 will be ignored. Current value: lambda_l1=6.29090474401462\n",
      "[LightGBM] [Warning] lambda_l2 is set=6.775341543233317, reg_lambda=0.0 will be ignored. Current value: lambda_l2=6.775341543233317\n",
      "[LightGBM] [Warning] num_iterations is set=1500, n_iter=1500 will be ignored. Current value: num_iterations=1500\n",
      "[LightGBM] [Warning] min_data_in_leaf is set=95, min_child_samples=20 will be ignored. Current value: min_data_in_leaf=95\n",
      "[LightGBM] [Warning] lambda_l1 is set=6.29090474401462, reg_alpha=0.0 will be ignored. Current value: lambda_l1=6.29090474401462\n",
      "[LightGBM] [Warning] lambda_l2 is set=6.775341543233317, reg_lambda=0.0 will be ignored. Current value: lambda_l2=6.775341543233317\n",
      "[LightGBM] [Warning] num_iterations is set=1500, n_iter=1500 will be ignored. Current value: num_iterations=1500\n",
      "[LightGBM] [Warning] min_data_in_leaf is set=95, min_child_samples=20 will be ignored. Current value: min_data_in_leaf=95\n",
      "[LightGBM] [Warning] lambda_l1 is set=6.29090474401462, reg_alpha=0.0 will be ignored. Current value: lambda_l1=6.29090474401462\n",
      "[LightGBM] [Warning] lambda_l2 is set=6.775341543233317, reg_lambda=0.0 will be ignored. Current value: lambda_l2=6.775341543233317\n",
      "[LightGBM] [Warning] num_iterations is set=1500, n_iter=1500 will be ignored. Current value: num_iterations=1500\n",
      "[LightGBM] [Warning] min_data_in_leaf is set=95, min_child_samples=20 will be ignored. Current value: min_data_in_leaf=95\n",
      "[LightGBM] [Warning] lambda_l1 is set=6.29090474401462, reg_alpha=0.0 will be ignored. Current value: lambda_l1=6.29090474401462\n",
      "Accuracy: 0.96 (+/- 0.00) [stackingClassifier]\n",
      "CPU times: user 3h 14min 15s, sys: 34.9 s, total: 3h 14min 50s\n",
      "Wall time: 59min 48s\n"
     ]
    }
   ],
   "source": [
    "%%time\n",
    "#output\n",
    "for clf,label in zip([rf,lgb,xgb,sclf],['RF','Lgb','XGBoost','stackingClassifier']):\n",
    "    scores=cross_val_score(clf,X,y,cv=5,scoring='accuracy')\n",
    "    print(\"Accuracy: %0.2f (+/- %0.2f) [%s]\" % (scores.mean(), scores.std(), label))\n",
    "    gc.collect()"
   ]
  },
  {
   "cell_type": "code",
   "execution_count": 25,
   "id": "ae015461",
   "metadata": {
    "execution": {
     "iopub.execute_input": "2023-12-02T17:42:05.708404Z",
     "iopub.status.busy": "2023-12-02T17:42:05.708035Z",
     "iopub.status.idle": "2023-12-02T17:52:33.597654Z",
     "shell.execute_reply": "2023-12-02T17:52:33.596255Z"
    },
    "papermill": {
     "duration": 627.941289,
     "end_time": "2023-12-02T17:52:33.634275",
     "exception": false,
     "start_time": "2023-12-02T17:42:05.692986",
     "status": "completed"
    },
    "tags": []
   },
   "outputs": [
    {
     "name": "stdout",
     "output_type": "stream",
     "text": [
      "[LightGBM] [Warning] lambda_l2 is set=6.775341543233317, reg_lambda=0.0 will be ignored. Current value: lambda_l2=6.775341543233317\n",
      "[LightGBM] [Warning] num_iterations is set=1500, n_iter=1500 will be ignored. Current value: num_iterations=1500\n",
      "[LightGBM] [Warning] min_data_in_leaf is set=95, min_child_samples=20 will be ignored. Current value: min_data_in_leaf=95\n",
      "[LightGBM] [Warning] lambda_l1 is set=6.29090474401462, reg_alpha=0.0 will be ignored. Current value: lambda_l1=6.29090474401462\n",
      "[LightGBM] [Warning] lambda_l2 is set=6.775341543233317, reg_lambda=0.0 will be ignored. Current value: lambda_l2=6.775341543233317\n",
      "[LightGBM] [Warning] num_iterations is set=1500, n_iter=1500 will be ignored. Current value: num_iterations=1500\n",
      "[LightGBM] [Warning] min_data_in_leaf is set=95, min_child_samples=20 will be ignored. Current value: min_data_in_leaf=95\n",
      "[LightGBM] [Warning] lambda_l1 is set=6.29090474401462, reg_alpha=0.0 will be ignored. Current value: lambda_l1=6.29090474401462\n",
      "[LightGBM] [Warning] lambda_l2 is set=6.775341543233317, reg_lambda=0.0 will be ignored. Current value: lambda_l2=6.775341543233317\n",
      "[LightGBM] [Warning] num_iterations is set=1500, n_iter=1500 will be ignored. Current value: num_iterations=1500\n",
      "[LightGBM] [Warning] min_data_in_leaf is set=95, min_child_samples=20 will be ignored. Current value: min_data_in_leaf=95\n",
      "[LightGBM] [Warning] lambda_l1 is set=6.29090474401462, reg_alpha=0.0 will be ignored. Current value: lambda_l1=6.29090474401462\n"
     ]
    },
    {
     "data": {
      "text/html": [
       "<style>#sk-container-id-1 {color: black;background-color: white;}#sk-container-id-1 pre{padding: 0;}#sk-container-id-1 div.sk-toggleable {background-color: white;}#sk-container-id-1 label.sk-toggleable__label {cursor: pointer;display: block;width: 100%;margin-bottom: 0;padding: 0.3em;box-sizing: border-box;text-align: center;}#sk-container-id-1 label.sk-toggleable__label-arrow:before {content: \"▸\";float: left;margin-right: 0.25em;color: #696969;}#sk-container-id-1 label.sk-toggleable__label-arrow:hover:before {color: black;}#sk-container-id-1 div.sk-estimator:hover label.sk-toggleable__label-arrow:before {color: black;}#sk-container-id-1 div.sk-toggleable__content {max-height: 0;max-width: 0;overflow: hidden;text-align: left;background-color: #f0f8ff;}#sk-container-id-1 div.sk-toggleable__content pre {margin: 0.2em;color: black;border-radius: 0.25em;background-color: #f0f8ff;}#sk-container-id-1 input.sk-toggleable__control:checked~div.sk-toggleable__content {max-height: 200px;max-width: 100%;overflow: auto;}#sk-container-id-1 input.sk-toggleable__control:checked~label.sk-toggleable__label-arrow:before {content: \"▾\";}#sk-container-id-1 div.sk-estimator input.sk-toggleable__control:checked~label.sk-toggleable__label {background-color: #d4ebff;}#sk-container-id-1 div.sk-label input.sk-toggleable__control:checked~label.sk-toggleable__label {background-color: #d4ebff;}#sk-container-id-1 input.sk-hidden--visually {border: 0;clip: rect(1px 1px 1px 1px);clip: rect(1px, 1px, 1px, 1px);height: 1px;margin: -1px;overflow: hidden;padding: 0;position: absolute;width: 1px;}#sk-container-id-1 div.sk-estimator {font-family: monospace;background-color: #f0f8ff;border: 1px dotted black;border-radius: 0.25em;box-sizing: border-box;margin-bottom: 0.5em;}#sk-container-id-1 div.sk-estimator:hover {background-color: #d4ebff;}#sk-container-id-1 div.sk-parallel-item::after {content: \"\";width: 100%;border-bottom: 1px solid gray;flex-grow: 1;}#sk-container-id-1 div.sk-label:hover label.sk-toggleable__label {background-color: #d4ebff;}#sk-container-id-1 div.sk-serial::before {content: \"\";position: absolute;border-left: 1px solid gray;box-sizing: border-box;top: 0;bottom: 0;left: 50%;z-index: 0;}#sk-container-id-1 div.sk-serial {display: flex;flex-direction: column;align-items: center;background-color: white;padding-right: 0.2em;padding-left: 0.2em;position: relative;}#sk-container-id-1 div.sk-item {position: relative;z-index: 1;}#sk-container-id-1 div.sk-parallel {display: flex;align-items: stretch;justify-content: center;background-color: white;position: relative;}#sk-container-id-1 div.sk-item::before, #sk-container-id-1 div.sk-parallel-item::before {content: \"\";position: absolute;border-left: 1px solid gray;box-sizing: border-box;top: 0;bottom: 0;left: 50%;z-index: -1;}#sk-container-id-1 div.sk-parallel-item {display: flex;flex-direction: column;z-index: 1;position: relative;background-color: white;}#sk-container-id-1 div.sk-parallel-item:first-child::after {align-self: flex-end;width: 50%;}#sk-container-id-1 div.sk-parallel-item:last-child::after {align-self: flex-start;width: 50%;}#sk-container-id-1 div.sk-parallel-item:only-child::after {width: 0;}#sk-container-id-1 div.sk-dashed-wrapped {border: 1px dashed gray;margin: 0 0.4em 0.5em 0.4em;box-sizing: border-box;padding-bottom: 0.4em;background-color: white;}#sk-container-id-1 div.sk-label label {font-family: monospace;font-weight: bold;display: inline-block;line-height: 1.2em;}#sk-container-id-1 div.sk-label-container {text-align: center;}#sk-container-id-1 div.sk-container {/* jupyter's `normalize.less` sets `[hidden] { display: none; }` but bootstrap.min.css set `[hidden] { display: none !important; }` so we also need the `!important` here to be able to override the default hidden behavior on the sphinx rendered scikit-learn.org. See: https://github.com/scikit-learn/scikit-learn/issues/21755 */display: inline-block !important;position: relative;}#sk-container-id-1 div.sk-text-repr-fallback {display: none;}</style><div id=\"sk-container-id-1\" class=\"sk-top-container\"><div class=\"sk-text-repr-fallback\"><pre>StackingCVClassifier(classifiers=[RandomForestClassifier(min_samples_leaf=300,\n",
       "                                                         n_estimators=500,\n",
       "                                                         n_jobs=-1,\n",
       "                                                         random_state=42),\n",
       "                                  LGBMClassifier(colsample_bynode=0.637635804565811,\n",
       "                                                 colsample_bytree=0.6440444070196796,\n",
       "                                                 lambda_l1=6.29090474401462,\n",
       "                                                 lambda_l2=6.775341543233317,\n",
       "                                                 learning_rate=0.05670084478292278,\n",
       "                                                 max_bin=630, max_depth=39,\n",
       "                                                 min_data_in_leaf=95,\n",
       "                                                 n_estima...\n",
       "                                                interaction_constraints=None,\n",
       "                                                learning_rate=0.02,\n",
       "                                                max_bin=None,\n",
       "                                                max_cat_threshold=None,\n",
       "                                                max_cat_to_onehot=None,\n",
       "                                                max_delta_step=None,\n",
       "                                                max_depth=7, max_leaves=None,\n",
       "                                                min_child_weight=None,\n",
       "                                                missing=nan,\n",
       "                                                monotone_constraints=None,\n",
       "                                                multi_strategy=None,\n",
       "                                                n_estimators=920, n_jobs=None,\n",
       "                                                num_parallel_tree=None,\n",
       "                                                random_state=42, ...)],\n",
       "                     meta_classifier=LogisticRegression(), random_state=42)</pre><b>In a Jupyter environment, please rerun this cell to show the HTML representation or trust the notebook. <br />On GitHub, the HTML representation is unable to render, please try loading this page with nbviewer.org.</b></div><div class=\"sk-container\" hidden><div class=\"sk-item sk-dashed-wrapped\"><div class=\"sk-label-container\"><div class=\"sk-label sk-toggleable\"><input class=\"sk-toggleable__control sk-hidden--visually\" id=\"sk-estimator-id-1\" type=\"checkbox\" ><label for=\"sk-estimator-id-1\" class=\"sk-toggleable__label sk-toggleable__label-arrow\">StackingCVClassifier</label><div class=\"sk-toggleable__content\"><pre>StackingCVClassifier(classifiers=[RandomForestClassifier(min_samples_leaf=300,\n",
       "                                                         n_estimators=500,\n",
       "                                                         n_jobs=-1,\n",
       "                                                         random_state=42),\n",
       "                                  LGBMClassifier(colsample_bynode=0.637635804565811,\n",
       "                                                 colsample_bytree=0.6440444070196796,\n",
       "                                                 lambda_l1=6.29090474401462,\n",
       "                                                 lambda_l2=6.775341543233317,\n",
       "                                                 learning_rate=0.05670084478292278,\n",
       "                                                 max_bin=630, max_depth=39,\n",
       "                                                 min_data_in_leaf=95,\n",
       "                                                 n_estima...\n",
       "                                                interaction_constraints=None,\n",
       "                                                learning_rate=0.02,\n",
       "                                                max_bin=None,\n",
       "                                                max_cat_threshold=None,\n",
       "                                                max_cat_to_onehot=None,\n",
       "                                                max_delta_step=None,\n",
       "                                                max_depth=7, max_leaves=None,\n",
       "                                                min_child_weight=None,\n",
       "                                                missing=nan,\n",
       "                                                monotone_constraints=None,\n",
       "                                                multi_strategy=None,\n",
       "                                                n_estimators=920, n_jobs=None,\n",
       "                                                num_parallel_tree=None,\n",
       "                                                random_state=42, ...)],\n",
       "                     meta_classifier=LogisticRegression(), random_state=42)</pre></div></div></div><div class=\"sk-parallel\"><div class=\"sk-parallel-item\"><div class=\"sk-item\"><div class=\"sk-label-container\"><div class=\"sk-label sk-toggleable\"><input class=\"sk-toggleable__control sk-hidden--visually\" id=\"sk-estimator-id-2\" type=\"checkbox\" ><label for=\"sk-estimator-id-2\" class=\"sk-toggleable__label sk-toggleable__label-arrow\">meta_classifier: LogisticRegression</label><div class=\"sk-toggleable__content\"><pre>LogisticRegression()</pre></div></div></div><div class=\"sk-serial\"><div class=\"sk-item\"><div class=\"sk-estimator sk-toggleable\"><input class=\"sk-toggleable__control sk-hidden--visually\" id=\"sk-estimator-id-3\" type=\"checkbox\" ><label for=\"sk-estimator-id-3\" class=\"sk-toggleable__label sk-toggleable__label-arrow\">LogisticRegression</label><div class=\"sk-toggleable__content\"><pre>LogisticRegression()</pre></div></div></div></div></div></div></div></div></div></div>"
      ],
      "text/plain": [
       "StackingCVClassifier(classifiers=[RandomForestClassifier(min_samples_leaf=300,\n",
       "                                                         n_estimators=500,\n",
       "                                                         n_jobs=-1,\n",
       "                                                         random_state=42),\n",
       "                                  LGBMClassifier(colsample_bynode=0.637635804565811,\n",
       "                                                 colsample_bytree=0.6440444070196796,\n",
       "                                                 lambda_l1=6.29090474401462,\n",
       "                                                 lambda_l2=6.775341543233317,\n",
       "                                                 learning_rate=0.05670084478292278,\n",
       "                                                 max_bin=630, max_depth=39,\n",
       "                                                 min_data_in_leaf=95,\n",
       "                                                 n_estima...\n",
       "                                                interaction_constraints=None,\n",
       "                                                learning_rate=0.02,\n",
       "                                                max_bin=None,\n",
       "                                                max_cat_threshold=None,\n",
       "                                                max_cat_to_onehot=None,\n",
       "                                                max_delta_step=None,\n",
       "                                                max_depth=7, max_leaves=None,\n",
       "                                                min_child_weight=None,\n",
       "                                                missing=nan,\n",
       "                                                monotone_constraints=None,\n",
       "                                                multi_strategy=None,\n",
       "                                                n_estimators=920, n_jobs=None,\n",
       "                                                num_parallel_tree=None,\n",
       "                                                random_state=42, ...)],\n",
       "                     meta_classifier=LogisticRegression(), random_state=42)"
      ]
     },
     "execution_count": 25,
     "metadata": {},
     "output_type": "execute_result"
    }
   ],
   "source": [
    "sclf.fit(X,y)"
   ]
  },
  {
   "cell_type": "markdown",
   "id": "dfb99063",
   "metadata": {
    "papermill": {
     "duration": 0.017325,
     "end_time": "2023-12-02T17:52:33.686837",
     "exception": false,
     "start_time": "2023-12-02T17:52:33.669512",
     "status": "completed"
    },
    "tags": []
   },
   "source": [
    "# output"
   ]
  },
  {
   "cell_type": "code",
   "execution_count": 26,
   "id": "e4628046",
   "metadata": {
    "execution": {
     "iopub.execute_input": "2023-12-02T17:52:33.718548Z",
     "iopub.status.busy": "2023-12-02T17:52:33.717599Z",
     "iopub.status.idle": "2023-12-02T17:52:33.725256Z",
     "shell.execute_reply": "2023-12-02T17:52:33.724304Z"
    },
    "papermill": {
     "duration": 0.025687,
     "end_time": "2023-12-02T17:52:33.727270",
     "exception": false,
     "start_time": "2023-12-02T17:52:33.701583",
     "status": "completed"
    },
    "tags": []
   },
   "outputs": [],
   "source": [
    "def get_event(df):\n",
    "    lstCV = zip(df.series_id, df.smooth)\n",
    "    lstPOI = []\n",
    "    for (c, v), g in groupby(lstCV, lambda cv: \n",
    "                            (cv[0], cv[1]!=0 and not pd.isnull(cv[1]))):\n",
    "        llg = sum(1 for item in g)\n",
    "        if v is False: \n",
    "            lstPOI.extend([0]*llg)\n",
    "        else: \n",
    "            lstPOI.extend(['onset']+(llg-2)*[0]+['wakeup'] if llg > 1 else [0])\n",
    "    return lstPOI\n",
    "#submission = test.loc[test[\"event\"] != 0][[\"series_id\",\"step\",\"event\",\"score\"]].copy().reset_index(drop=True).reset_index(names=\"row_id\")\n",
    "#submission.to_csv('submission.csv', index=False)"
   ]
  },
  {
   "cell_type": "code",
   "execution_count": 27,
   "id": "9e00d7e8",
   "metadata": {
    "execution": {
     "iopub.execute_input": "2023-12-02T17:52:33.758586Z",
     "iopub.status.busy": "2023-12-02T17:52:33.758210Z",
     "iopub.status.idle": "2023-12-02T17:52:35.674215Z",
     "shell.execute_reply": "2023-12-02T17:52:35.673370Z"
    },
    "papermill": {
     "duration": 1.934356,
     "end_time": "2023-12-02T17:52:35.676405",
     "exception": false,
     "start_time": "2023-12-02T17:52:33.742049",
     "status": "completed"
    },
    "tags": []
   },
   "outputs": [],
   "source": [
    "cols_sub = ['series_id','step','event','score']\n",
    "\n",
    "series_id  = pd.read_parquet('/kaggle/input/child-mind-institute-detect-sleep-states/test_series.parquet', columns=['series_id'])\n",
    "series_id = series_id.series_id.unique()\n",
    "\n",
    "tests = []\n",
    "for idx in series_id:\n",
    "    test = pd.read_parquet('/kaggle/input/child-mind-institute-detect-sleep-states/test_series.parquet',filters=[('series_id','=',idx)])\n",
    "    test = feature_programming(test)\n",
    "    \n",
    "\n",
    "    X_test = test[['anglez', 'enmo', 'hour',\n",
    "       'anglez_roll_60', 'enmo_roll_60', 'anglez_momentum_60',\n",
    "       'enmo_momentum_60', 'ratio_ang_60', 'ratio_enm_60', 'anglez_max_60',\n",
    "       'anglez_min_60', 'enmo_max_60', 'enmo_min_60', 'anglez_roll_360',\n",
    "       'enmo_roll_360', 'anglez_momentum_360', 'enmo_momentum_360',\n",
    "       'ratio_ang_360', 'ratio_enm_360', 'anglez_max_360', 'anglez_min_360',\n",
    "       'enmo_max_360', 'enmo_min_360', 'anglez_roll_720', 'enmo_roll_720',\n",
    "       'anglez_momentum_720', 'enmo_momentum_720', 'ratio_ang_720',\n",
    "       'ratio_enm_720', 'anglez_max_720', 'anglez_min_720', 'enmo_max_720',\n",
    "       'enmo_min_720', 'anglez_roll_3600', 'enmo_roll_3600',\n",
    "       'anglez_momentum_3600', 'enmo_momentum_3600', 'ratio_ang_3600',\n",
    "       'ratio_enm_3600', 'anglez_max_3600', 'anglez_min_3600', 'enmo_max_3600',\n",
    "       'enmo_min_3600']]\n",
    "    X_test = X_test.fillna(0)\n",
    "    \n",
    "    test.reset_index(drop=False,inplace=True)\n",
    "    test = test[['series_id', 'step','timestamp']]\n",
    "    \n",
    "    test[\"probability\"] = sclf.predict_proba(X_test)[:,1]\n",
    "    \n",
    "\n",
    "    test['prediction']=sclf.predict(X_test)\n",
    "    test['prediction']=test['prediction'].rolling(360,center=True).median()\n",
    "    \n",
    "    #0-1 change\n",
    "    test.loc[test['prediction']==0, 'probability'] = 1-test.loc[test['prediction']==0, 'probability']\n",
    "    \n",
    "    test['score'] = test['probability'].rolling(360, center=True, min_periods=10).mean().bfill().ffill()\n",
    "    \n",
    "    #?\n",
    "    test['pred_diff'] = test['prediction'].diff()\n",
    "    test['event']= test['pred_diff'].replace({1:'wakeup',-1:'onset',0:np.nan})\n",
    "    \n",
    "    test_wakeup = test[test['event']=='wakeup'].groupby(test['timestamp'].dt.date).agg('first')\n",
    "    test_onset = test[test['event']=='onset'].groupby(test['timestamp'].dt.date).agg('last')\n",
    "    test = pd.concat([test_wakeup, test_onset], ignore_index=True).sort_values('timestamp')\n",
    "    \n",
    "    out = test[['series_id','step','event','score']]\n",
    "    tests.append(out)\n",
    "    "
   ]
  },
  {
   "cell_type": "markdown",
   "id": "f3ab4440",
   "metadata": {
    "papermill": {
     "duration": 0.014508,
     "end_time": "2023-12-02T17:52:35.705627",
     "exception": false,
     "start_time": "2023-12-02T17:52:35.691119",
     "status": "completed"
    },
    "tags": []
   },
   "source": [
    "# submission"
   ]
  },
  {
   "cell_type": "code",
   "execution_count": 28,
   "id": "11f76184",
   "metadata": {
    "execution": {
     "iopub.execute_input": "2023-12-02T17:52:35.736147Z",
     "iopub.status.busy": "2023-12-02T17:52:35.735804Z",
     "iopub.status.idle": "2023-12-02T17:52:35.751651Z",
     "shell.execute_reply": "2023-12-02T17:52:35.750915Z"
    },
    "papermill": {
     "duration": 0.033292,
     "end_time": "2023-12-02T17:52:35.753566",
     "exception": false,
     "start_time": "2023-12-02T17:52:35.720274",
     "status": "completed"
    },
    "tags": []
   },
   "outputs": [
    {
     "data": {
      "text/html": [
       "<div>\n",
       "<style scoped>\n",
       "    .dataframe tbody tr th:only-of-type {\n",
       "        vertical-align: middle;\n",
       "    }\n",
       "\n",
       "    .dataframe tbody tr th {\n",
       "        vertical-align: top;\n",
       "    }\n",
       "\n",
       "    .dataframe thead th {\n",
       "        text-align: right;\n",
       "    }\n",
       "</style>\n",
       "<table border=\"1\" class=\"dataframe\">\n",
       "  <thead>\n",
       "    <tr style=\"text-align: right;\">\n",
       "      <th></th>\n",
       "      <th>row_id</th>\n",
       "      <th>series_id</th>\n",
       "      <th>step</th>\n",
       "      <th>event</th>\n",
       "      <th>score</th>\n",
       "    </tr>\n",
       "  </thead>\n",
       "  <tbody>\n",
       "  </tbody>\n",
       "</table>\n",
       "</div>"
      ],
      "text/plain": [
       "Empty DataFrame\n",
       "Columns: [row_id, series_id, step, event, score]\n",
       "Index: []"
      ]
     },
     "execution_count": 28,
     "metadata": {},
     "output_type": "execute_result"
    }
   ],
   "source": [
    "submission = pd.concat(tests, ignore_index=True).reset_index(names='row_id')\n",
    "submission.to_csv('submission.csv', index=False)\n",
    "submission\n",
    "\n"
   ]
  }
 ],
 "metadata": {
  "kaggle": {
   "accelerator": "gpu",
   "dataSources": [
    {
     "databundleVersionId": 6589269,
     "sourceId": 53666,
     "sourceType": "competition"
    },
    {
     "datasetId": 3706667,
     "sourceId": 6507308,
     "sourceType": "datasetVersion"
    }
   ],
   "dockerImageVersionId": 30587,
   "isGpuEnabled": true,
   "isInternetEnabled": true,
   "language": "python",
   "sourceType": "notebook"
  },
  "kernelspec": {
   "display_name": "Python 3",
   "language": "python",
   "name": "python3"
  },
  "language_info": {
   "codemirror_mode": {
    "name": "ipython",
    "version": 3
   },
   "file_extension": ".py",
   "mimetype": "text/x-python",
   "name": "python",
   "nbconvert_exporter": "python",
   "pygments_lexer": "ipython3",
   "version": "3.10.12"
  },
  "papermill": {
   "default_parameters": {},
   "duration": 4461.266453,
   "end_time": "2023-12-02T17:52:38.596921",
   "environment_variables": {},
   "exception": null,
   "input_path": "__notebook__.ipynb",
   "output_path": "__notebook__.ipynb",
   "parameters": {},
   "start_time": "2023-12-02T16:38:17.330468",
   "version": "2.4.0"
  }
 },
 "nbformat": 4,
 "nbformat_minor": 5
}
